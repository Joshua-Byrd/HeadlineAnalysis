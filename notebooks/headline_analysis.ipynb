{
 "cells": [
  {
   "cell_type": "markdown",
   "id": "8957b254",
   "metadata": {},
   "source": [
    "# What's in a Headline? Sentiment and Bias in Online Headlines\n"
   ]
  },
  {
   "cell_type": "markdown",
   "id": "4437f26b",
   "metadata": {},
   "source": [
    "## Summary\n",
    "The importance of understanding bias in media cannot be overstated. The divide between political left and right has grown in recent years, due at least in part to the consumption of partisan media fed to users via their social media algorithms. Furthermore, around 75% of news articles shared are passed on [based on their headlines alone](https://www.nature.com/articles/s41562-024-02067-4), without the user ever having read the linked information. As such, this project explores the relationship between bias, reliability, and tone in the headlines of popular media outlets. Using data sources from [NewsAPI](https://newsapi.org/), and bias\n",
    "and reliability ratings from the [Ad Fontes Media Bias Chart](https://app.adfontesmedia.com/chart/interactive?utm_source=adfontesmedia&utm_medium=website), the goal is to analyze whether headline sentiment tends to correlate with political bias or reliability of media sources."
   ]
  },
  {
   "cell_type": "markdown",
   "id": "eadd838d",
   "metadata": {},
   "source": [
    "## Data Sourcing\n",
    "### NewsAPI\n",
    "All headlines and accompanying source data came from [NewsAPI](https://newsapi.org/), an HTTP REST API that can be used to search for and retrieve articles from more than 100 news sources from all over the internet.  \n",
    "\n",
    "### Ad Fontes\n",
    "Bias scores used in the analysis have been taken from Ad Fontes Media Bias Chart. [Ad Fontes](https://adfontesmedia.com/?utm_source=WEBAPP) is a public benefit corporation based in Colorado whose stated aim is to [\"rate all the news to positively transform society\"](https://adfontesmedia.com/about-ad-fontes-media/). Using analysts with political views spanning the entirety of the political spectrum, Ad Fontes assigns to each article or outlet a rating for both *bias* and *reliability*. \n",
    "\n",
    "Politically neutral sources have a bias score close to 0, while those skewing left and right have negative and positive scores respectively, with the strength of the score correlating to the degree of bias (i.e. the higher the absolute value of the score, the more biased the source is). \n",
    "\n",
    "Reliability is rated on scale of 0 to 64 with the highest scores being given to outlets with fact-based reporting and a high degree of effort applied towards neutrality. Toward the middle of the spectrum, media sources have less reliability in their reporting or are a mixture of fact and opinion based articles. And, finally, those sources at the bottom of the scale contain information that is misleading, inaccurate, or fabricated.\n"
   ]
  },
  {
   "cell_type": "markdown",
   "id": "00a6a7f6",
   "metadata": {},
   "source": [
    "## Data Collection\n",
    "The following outlines the specific functionality of each Python script and the steps taken to arrive at the dataset used in the analysis (`flattened_articles.csv`). Although it was necessary to compile the list of Ad Fontes sources manually, each file following step 2 could be combined into a single script. For the sake of clarity, as well as modularity/reusability, they have been left as separate steps.\n",
    "\n",
    "1. `fetch_newsapi_sources.py` - Retrieves the full list of news sources from NewsAPI, and saves\n",
    "them in JSON format to `data/raw/newsapi_sources.json`.\n",
    "2. `ad_fontes_sources.json` - A JSON-formatted list of news sources with their associated \n",
    "bias and reliability scores from Ad Fontes. As Ad Fontes only provides data for their paid tiers, it was necessary to compile this manually based on overlapping sources from NewsAPI.\n",
    "3. `merge_sources.py` - Merges the sources from NewsAPI with their bias and reliability scores from Ad Fontes and saves them in JSON format to `data/raw/merged_sources.json`\n",
    "4. `fetch_hl_objects_from_api.py` - Fetches the headline/article objects from NewsAPI and saves them in JSON format to `data/raw/headline_objects.json`. This script can be exceuted multiple times, as the new data is integrated with the existing data, and duplicates are overwritten. All data for this analysis was collected between 10/4/2025 and 10/9/2025 using a cron job set to fetch articles every hour.\n",
    "5. `flatten_articles.py` - Flattens all article objects into a csv file saved to `data/flattened_articles.csv`."
   ]
  },
  {
   "cell_type": "markdown",
   "id": "8b9326a0",
   "metadata": {},
   "source": [
    "## Data Preparation"
   ]
  },
  {
   "cell_type": "code",
   "execution_count": 1,
   "id": "8ba6edc5",
   "metadata": {},
   "outputs": [
    {
     "name": "stderr",
     "output_type": "stream",
     "text": [
      "[nltk_data] Downloading package vader_lexicon to /home/j/nltk_data...\n",
      "[nltk_data]   Package vader_lexicon is already up-to-date!\n"
     ]
    }
   ],
   "source": [
    "# Necessary imports\n",
    "import json\n",
    "import pandas as pd \n",
    "import numpy as np \n",
    "import nltk\n",
    "from nltk.sentiment.vader import SentimentIntensityAnalyzer\n",
    "nltk.download('vader_lexicon')\n",
    "from matplotlib import pyplot as plt"
   ]
  },
  {
   "cell_type": "code",
   "execution_count": 2,
   "id": "6d81318d",
   "metadata": {},
   "outputs": [
    {
     "data": {
      "text/html": [
       "<div>\n",
       "<style scoped>\n",
       "    .dataframe tbody tr th:only-of-type {\n",
       "        vertical-align: middle;\n",
       "    }\n",
       "\n",
       "    .dataframe tbody tr th {\n",
       "        vertical-align: top;\n",
       "    }\n",
       "\n",
       "    .dataframe thead th {\n",
       "        text-align: right;\n",
       "    }\n",
       "</style>\n",
       "<table border=\"1\" class=\"dataframe\">\n",
       "  <thead>\n",
       "    <tr style=\"text-align: right;\">\n",
       "      <th></th>\n",
       "      <th>id</th>\n",
       "      <th>name</th>\n",
       "      <th>description</th>\n",
       "      <th>url</th>\n",
       "      <th>category</th>\n",
       "      <th>country</th>\n",
       "      <th>reliability</th>\n",
       "      <th>bias</th>\n",
       "    </tr>\n",
       "  </thead>\n",
       "  <tbody>\n",
       "    <tr>\n",
       "      <th>abc news</th>\n",
       "      <td>abc-news</td>\n",
       "      <td>abc news</td>\n",
       "      <td>your trusted source for breaking news, analysi...</td>\n",
       "      <td>https://abcnews.go.com</td>\n",
       "      <td>general</td>\n",
       "      <td>us</td>\n",
       "      <td>44.60</td>\n",
       "      <td>-3.10</td>\n",
       "    </tr>\n",
       "    <tr>\n",
       "      <th>al jazeera english</th>\n",
       "      <td>al-jazeera-english</td>\n",
       "      <td>al jazeera english</td>\n",
       "      <td>news, analysis from the middle east and worldw...</td>\n",
       "      <td>https://www.aljazeera.com</td>\n",
       "      <td>general</td>\n",
       "      <td>us</td>\n",
       "      <td>41.28</td>\n",
       "      <td>-7.31</td>\n",
       "    </tr>\n",
       "    <tr>\n",
       "      <th>associated press</th>\n",
       "      <td>associated-press</td>\n",
       "      <td>associated press</td>\n",
       "      <td>the ap delivers in-depth coverage on the inter...</td>\n",
       "      <td>https://apnews.com/</td>\n",
       "      <td>general</td>\n",
       "      <td>us</td>\n",
       "      <td>44.81</td>\n",
       "      <td>-2.47</td>\n",
       "    </tr>\n",
       "  </tbody>\n",
       "</table>\n",
       "</div>"
      ],
      "text/plain": [
       "                                    id                name  \\\n",
       "abc news                      abc-news            abc news   \n",
       "al jazeera english  al-jazeera-english  al jazeera english   \n",
       "associated press      associated-press    associated press   \n",
       "\n",
       "                                                          description  \\\n",
       "abc news            your trusted source for breaking news, analysi...   \n",
       "al jazeera english  news, analysis from the middle east and worldw...   \n",
       "associated press    the ap delivers in-depth coverage on the inter...   \n",
       "\n",
       "                                          url category country  reliability  \\\n",
       "abc news               https://abcnews.go.com  general      us        44.60   \n",
       "al jazeera english  https://www.aljazeera.com  general      us        41.28   \n",
       "associated press          https://apnews.com/  general      us        44.81   \n",
       "\n",
       "                    bias  \n",
       "abc news           -3.10  \n",
       "al jazeera english -7.31  \n",
       "associated press   -2.47  "
      ]
     },
     "execution_count": 2,
     "metadata": {},
     "output_type": "execute_result"
    }
   ],
   "source": [
    "# import sources into a dataframe to obtain bias/reliability data\n",
    "with open (\"../data/raw/merged_sources.json\", \"r\") as file:\n",
    "    sources = json.load(file)\n",
    "sources_df = pd.DataFrame.from_dict(sources, orient=\"index\")\n",
    "sources_df.head(3)\n",
    "    "
   ]
  },
  {
   "cell_type": "code",
   "execution_count": 3,
   "id": "19792469",
   "metadata": {},
   "outputs": [
    {
     "data": {
      "text/html": [
       "<div>\n",
       "<style scoped>\n",
       "    .dataframe tbody tr th:only-of-type {\n",
       "        vertical-align: middle;\n",
       "    }\n",
       "\n",
       "    .dataframe tbody tr th {\n",
       "        vertical-align: top;\n",
       "    }\n",
       "\n",
       "    .dataframe thead th {\n",
       "        text-align: right;\n",
       "    }\n",
       "</style>\n",
       "<table border=\"1\" class=\"dataframe\">\n",
       "  <thead>\n",
       "    <tr style=\"text-align: right;\">\n",
       "      <th></th>\n",
       "      <th>id</th>\n",
       "      <th>name</th>\n",
       "      <th>author</th>\n",
       "      <th>title</th>\n",
       "      <th>description</th>\n",
       "      <th>url</th>\n",
       "      <th>urlToImage</th>\n",
       "      <th>publishedAt</th>\n",
       "      <th>content</th>\n",
       "    </tr>\n",
       "  </thead>\n",
       "  <tbody>\n",
       "    <tr>\n",
       "      <th>0</th>\n",
       "      <td>cbs-news</td>\n",
       "      <td>CBS News</td>\n",
       "      <td>Matt  Richardson</td>\n",
       "      <td>Here's how much a $30,000 HELOC costs monthly ...</td>\n",
       "      <td>A $30,000 HELOC is inexpensive after the Fed c...</td>\n",
       "      <td>https://www.cbsnews.com/news/how-much-a-30000-...</td>\n",
       "      <td>https://assets1.cbsnewsstatic.com/hub/i/r/2015...</td>\n",
       "      <td>2025-10-03T14:13:09Z</td>\n",
       "      <td>HELOC borrowing costs are declining again now ...</td>\n",
       "    </tr>\n",
       "    <tr>\n",
       "      <th>1</th>\n",
       "      <td>fox-news</td>\n",
       "      <td>Fox News</td>\n",
       "      <td>NaN</td>\n",
       "      <td>Diddy sentencing begins as rapper faces up to ...</td>\n",
       "      <td>The disgraced music mogul Sean \"Diddy\" Combs f...</td>\n",
       "      <td>https://www.foxnews.com/entertainment/diddy-se...</td>\n",
       "      <td>https://static.foxnews.com/foxnews.com/content...</td>\n",
       "      <td>2025-10-03T14:12:57Z</td>\n",
       "      <td>Sean \"Diddy\" Combs appeared in court Friday, m...</td>\n",
       "    </tr>\n",
       "    <tr>\n",
       "      <th>2</th>\n",
       "      <td>cbs-news</td>\n",
       "      <td>CBS News</td>\n",
       "      <td>CBS News</td>\n",
       "      <td>Vengeful veterinarian eyed in Oregon man's par...</td>\n",
       "      <td>Investigators discover a trail of evidence aft...</td>\n",
       "      <td>https://www.cbsnews.com/video/vengeful-veterin...</td>\n",
       "      <td>https://assets2.cbsnewsstatic.com/hub/i/r/2025...</td>\n",
       "      <td>2025-10-03T14:11:00Z</td>\n",
       "      <td>Copyright ©2025 CBS Interactive Inc. All right...</td>\n",
       "    </tr>\n",
       "  </tbody>\n",
       "</table>\n",
       "</div>"
      ],
      "text/plain": [
       "         id      name            author  \\\n",
       "0  cbs-news  CBS News  Matt  Richardson   \n",
       "1  fox-news  Fox News               NaN   \n",
       "2  cbs-news  CBS News          CBS News   \n",
       "\n",
       "                                               title  \\\n",
       "0  Here's how much a $30,000 HELOC costs monthly ...   \n",
       "1  Diddy sentencing begins as rapper faces up to ...   \n",
       "2  Vengeful veterinarian eyed in Oregon man's par...   \n",
       "\n",
       "                                         description  \\\n",
       "0  A $30,000 HELOC is inexpensive after the Fed c...   \n",
       "1  The disgraced music mogul Sean \"Diddy\" Combs f...   \n",
       "2  Investigators discover a trail of evidence aft...   \n",
       "\n",
       "                                                 url  \\\n",
       "0  https://www.cbsnews.com/news/how-much-a-30000-...   \n",
       "1  https://www.foxnews.com/entertainment/diddy-se...   \n",
       "2  https://www.cbsnews.com/video/vengeful-veterin...   \n",
       "\n",
       "                                          urlToImage           publishedAt  \\\n",
       "0  https://assets1.cbsnewsstatic.com/hub/i/r/2015...  2025-10-03T14:13:09Z   \n",
       "1  https://static.foxnews.com/foxnews.com/content...  2025-10-03T14:12:57Z   \n",
       "2  https://assets2.cbsnewsstatic.com/hub/i/r/2025...  2025-10-03T14:11:00Z   \n",
       "\n",
       "                                             content  \n",
       "0  HELOC borrowing costs are declining again now ...  \n",
       "1  Sean \"Diddy\" Combs appeared in court Friday, m...  \n",
       "2  Copyright ©2025 CBS Interactive Inc. All right...  "
      ]
     },
     "execution_count": 3,
     "metadata": {},
     "output_type": "execute_result"
    }
   ],
   "source": [
    "# import the article information into a Pandas dataframe\n",
    "article_df = pd.read_csv(\"../data/flattened_articles.csv\")\n",
    "article_df.head(3)"
   ]
  },
  {
   "cell_type": "code",
   "execution_count": 4,
   "id": "6d1740d1",
   "metadata": {},
   "outputs": [
    {
     "data": {
      "text/html": [
       "<div>\n",
       "<style scoped>\n",
       "    .dataframe tbody tr th:only-of-type {\n",
       "        vertical-align: middle;\n",
       "    }\n",
       "\n",
       "    .dataframe tbody tr th {\n",
       "        vertical-align: top;\n",
       "    }\n",
       "\n",
       "    .dataframe thead th {\n",
       "        text-align: right;\n",
       "    }\n",
       "</style>\n",
       "<table border=\"1\" class=\"dataframe\">\n",
       "  <thead>\n",
       "    <tr style=\"text-align: right;\">\n",
       "      <th></th>\n",
       "      <th>id</th>\n",
       "      <th>name_x</th>\n",
       "      <th>description_x</th>\n",
       "      <th>url_x</th>\n",
       "      <th>category</th>\n",
       "      <th>country</th>\n",
       "      <th>reliability</th>\n",
       "      <th>bias</th>\n",
       "      <th>name_y</th>\n",
       "      <th>author</th>\n",
       "      <th>title</th>\n",
       "      <th>description_y</th>\n",
       "      <th>url_y</th>\n",
       "      <th>urlToImage</th>\n",
       "      <th>publishedAt</th>\n",
       "      <th>content</th>\n",
       "    </tr>\n",
       "  </thead>\n",
       "  <tbody>\n",
       "    <tr>\n",
       "      <th>0</th>\n",
       "      <td>abc-news</td>\n",
       "      <td>abc news</td>\n",
       "      <td>your trusted source for breaking news, analysi...</td>\n",
       "      <td>https://abcnews.go.com</td>\n",
       "      <td>general</td>\n",
       "      <td>us</td>\n",
       "      <td>44.6</td>\n",
       "      <td>-3.1</td>\n",
       "      <td>ABC News</td>\n",
       "      <td>ROB GILLIES Associated Press</td>\n",
       "      <td>Canadian Prime Minister Mark Carney to meet Tr...</td>\n",
       "      <td>Canadian Prime Minister Mark Carney is to hold...</td>\n",
       "      <td>https://abcnews.go.com/International/wireStory...</td>\n",
       "      <td>https://i.abcnewsfe.com/a/6d778f67-3556-4a35-9...</td>\n",
       "      <td>2025-10-03T13:58:26Z</td>\n",
       "      <td>TORONTO -- TORONTO (AP) Canadian Prime Ministe...</td>\n",
       "    </tr>\n",
       "    <tr>\n",
       "      <th>1</th>\n",
       "      <td>abc-news</td>\n",
       "      <td>abc news</td>\n",
       "      <td>your trusted source for breaking news, analysi...</td>\n",
       "      <td>https://abcnews.go.com</td>\n",
       "      <td>general</td>\n",
       "      <td>us</td>\n",
       "      <td>44.6</td>\n",
       "      <td>-3.1</td>\n",
       "      <td>ABC News</td>\n",
       "      <td>LINDSAY WHITEHURST Associated Press</td>\n",
       "      <td>Supreme Court to consider overturning Hawaii l...</td>\n",
       "      <td>The Supreme Court says it will consider overtu...</td>\n",
       "      <td>https://abcnews.go.com/US/wireStory/supreme-co...</td>\n",
       "      <td>https://i.abcnewsfe.com/a/bad5c649-e480-4f7d-b...</td>\n",
       "      <td>2025-10-03T13:53:11Z</td>\n",
       "      <td>WASHINGTON -- WASHINGTON (AP) The Supreme Cour...</td>\n",
       "    </tr>\n",
       "    <tr>\n",
       "      <th>2</th>\n",
       "      <td>abc-news</td>\n",
       "      <td>abc news</td>\n",
       "      <td>your trusted source for breaking news, analysi...</td>\n",
       "      <td>https://abcnews.go.com</td>\n",
       "      <td>general</td>\n",
       "      <td>us</td>\n",
       "      <td>44.6</td>\n",
       "      <td>-3.1</td>\n",
       "      <td>ABC News</td>\n",
       "      <td>The Associated Press</td>\n",
       "      <td>Early snowfall damages power lines and snarls ...</td>\n",
       "      <td>Early snowfall in the Western Balkans has left...</td>\n",
       "      <td>https://abcnews.go.com/International/wireStory...</td>\n",
       "      <td>https://i.abcnewsfe.com/a/216854b3-335e-46d4-a...</td>\n",
       "      <td>2025-10-03T13:32:47Z</td>\n",
       "      <td>BELGRADE, Serbia -- BELGRADE, Serbia (AP) Earl...</td>\n",
       "    </tr>\n",
       "  </tbody>\n",
       "</table>\n",
       "</div>"
      ],
      "text/plain": [
       "         id    name_x                                      description_x  \\\n",
       "0  abc-news  abc news  your trusted source for breaking news, analysi...   \n",
       "1  abc-news  abc news  your trusted source for breaking news, analysi...   \n",
       "2  abc-news  abc news  your trusted source for breaking news, analysi...   \n",
       "\n",
       "                    url_x category country  reliability  bias    name_y  \\\n",
       "0  https://abcnews.go.com  general      us         44.6  -3.1  ABC News   \n",
       "1  https://abcnews.go.com  general      us         44.6  -3.1  ABC News   \n",
       "2  https://abcnews.go.com  general      us         44.6  -3.1  ABC News   \n",
       "\n",
       "                                author  \\\n",
       "0         ROB GILLIES Associated Press   \n",
       "1  LINDSAY WHITEHURST Associated Press   \n",
       "2                 The Associated Press   \n",
       "\n",
       "                                               title  \\\n",
       "0  Canadian Prime Minister Mark Carney to meet Tr...   \n",
       "1  Supreme Court to consider overturning Hawaii l...   \n",
       "2  Early snowfall damages power lines and snarls ...   \n",
       "\n",
       "                                       description_y  \\\n",
       "0  Canadian Prime Minister Mark Carney is to hold...   \n",
       "1  The Supreme Court says it will consider overtu...   \n",
       "2  Early snowfall in the Western Balkans has left...   \n",
       "\n",
       "                                               url_y  \\\n",
       "0  https://abcnews.go.com/International/wireStory...   \n",
       "1  https://abcnews.go.com/US/wireStory/supreme-co...   \n",
       "2  https://abcnews.go.com/International/wireStory...   \n",
       "\n",
       "                                          urlToImage           publishedAt  \\\n",
       "0  https://i.abcnewsfe.com/a/6d778f67-3556-4a35-9...  2025-10-03T13:58:26Z   \n",
       "1  https://i.abcnewsfe.com/a/bad5c649-e480-4f7d-b...  2025-10-03T13:53:11Z   \n",
       "2  https://i.abcnewsfe.com/a/216854b3-335e-46d4-a...  2025-10-03T13:32:47Z   \n",
       "\n",
       "                                             content  \n",
       "0  TORONTO -- TORONTO (AP) Canadian Prime Ministe...  \n",
       "1  WASHINGTON -- WASHINGTON (AP) The Supreme Cour...  \n",
       "2  BELGRADE, Serbia -- BELGRADE, Serbia (AP) Earl...  "
      ]
     },
     "execution_count": 4,
     "metadata": {},
     "output_type": "execute_result"
    }
   ],
   "source": [
    "# merge dataframes\n",
    "df = pd.merge(sources_df, article_df, on=\"id\")\n",
    "df.head(3)"
   ]
  },
  {
   "cell_type": "markdown",
   "id": "ae6f9522",
   "metadata": {},
   "source": [
    "In the cell below, unnecessary columns are dropped. Note that the 'title' column contains the headlines that are used for sentiment analysis."
   ]
  },
  {
   "cell_type": "code",
   "execution_count": 5,
   "id": "0ae2d399",
   "metadata": {},
   "outputs": [
    {
     "data": {
      "text/html": [
       "<div>\n",
       "<style scoped>\n",
       "    .dataframe tbody tr th:only-of-type {\n",
       "        vertical-align: middle;\n",
       "    }\n",
       "\n",
       "    .dataframe tbody tr th {\n",
       "        vertical-align: top;\n",
       "    }\n",
       "\n",
       "    .dataframe thead th {\n",
       "        text-align: right;\n",
       "    }\n",
       "</style>\n",
       "<table border=\"1\" class=\"dataframe\">\n",
       "  <thead>\n",
       "    <tr style=\"text-align: right;\">\n",
       "      <th></th>\n",
       "      <th>id</th>\n",
       "      <th>name_x</th>\n",
       "      <th>category</th>\n",
       "      <th>reliability</th>\n",
       "      <th>bias</th>\n",
       "      <th>author</th>\n",
       "      <th>title</th>\n",
       "    </tr>\n",
       "  </thead>\n",
       "  <tbody>\n",
       "    <tr>\n",
       "      <th>0</th>\n",
       "      <td>abc-news</td>\n",
       "      <td>abc news</td>\n",
       "      <td>general</td>\n",
       "      <td>44.6</td>\n",
       "      <td>-3.1</td>\n",
       "      <td>ROB GILLIES Associated Press</td>\n",
       "      <td>Canadian Prime Minister Mark Carney to meet Tr...</td>\n",
       "    </tr>\n",
       "    <tr>\n",
       "      <th>1</th>\n",
       "      <td>abc-news</td>\n",
       "      <td>abc news</td>\n",
       "      <td>general</td>\n",
       "      <td>44.6</td>\n",
       "      <td>-3.1</td>\n",
       "      <td>LINDSAY WHITEHURST Associated Press</td>\n",
       "      <td>Supreme Court to consider overturning Hawaii l...</td>\n",
       "    </tr>\n",
       "    <tr>\n",
       "      <th>2</th>\n",
       "      <td>abc-news</td>\n",
       "      <td>abc news</td>\n",
       "      <td>general</td>\n",
       "      <td>44.6</td>\n",
       "      <td>-3.1</td>\n",
       "      <td>The Associated Press</td>\n",
       "      <td>Early snowfall damages power lines and snarls ...</td>\n",
       "    </tr>\n",
       "  </tbody>\n",
       "</table>\n",
       "</div>"
      ],
      "text/plain": [
       "         id    name_x category  reliability  bias  \\\n",
       "0  abc-news  abc news  general         44.6  -3.1   \n",
       "1  abc-news  abc news  general         44.6  -3.1   \n",
       "2  abc-news  abc news  general         44.6  -3.1   \n",
       "\n",
       "                                author  \\\n",
       "0         ROB GILLIES Associated Press   \n",
       "1  LINDSAY WHITEHURST Associated Press   \n",
       "2                 The Associated Press   \n",
       "\n",
       "                                               title  \n",
       "0  Canadian Prime Minister Mark Carney to meet Tr...  \n",
       "1  Supreme Court to consider overturning Hawaii l...  \n",
       "2  Early snowfall damages power lines and snarls ...  "
      ]
     },
     "execution_count": 5,
     "metadata": {},
     "output_type": "execute_result"
    }
   ],
   "source": [
    "# remove unnecessary columns\n",
    "df = df[[\"id\", \"name_x\", \"category\", \"reliability\", \"bias\", \"author\", \"title\"]]\n",
    "df.head(3)"
   ]
  },
  {
   "cell_type": "markdown",
   "id": "a649bc44",
   "metadata": {},
   "source": [
    "## General Source Statistics\n",
    "Before diving into the sentiment analysis, we will look at the sources themselves to determine where the data come from and what impact it might have on the analysis"
   ]
  },
  {
   "cell_type": "code",
   "execution_count": null,
   "id": "854af6b2",
   "metadata": {},
   "outputs": [
    {
     "name": "stdout",
     "output_type": "stream",
     "text": [
      "Number of unique sources: 19\n",
      "Number of left-skewing sources: 16\n",
      "Number of right_skewing sources: 3\n",
      "\n",
      "Number of headlines per source:\n",
      "id\n",
      "abc-news                     310\n",
      "al-jazeera-english           173\n",
      "associated-press              55\n",
      "bbc-news                     178\n",
      "bloomberg                     18\n",
      "breitbart-news               219\n",
      "business-insider             216\n",
      "cbs-news                     361\n",
      "cnn                           66\n",
      "fox-news                     372\n",
      "msnbc                         51\n",
      "nbc-news                     100\n",
      "newsweek                       2\n",
      "politico                       2\n",
      "the-american-conservative      7\n",
      "the-hill                       8\n",
      "the-washington-post            5\n",
      "time                           2\n",
      "usa-today                    214\n",
      "Name: id, dtype: int64\n",
      "Number of headlines from left-skewing sources: 1761\n",
      "Number of headlines from right-skewing sources: 598\n",
      "\n",
      "Total number of headlines: 2359\n"
     ]
    }
   ],
   "source": [
    "# source information \n",
    "source_ids = df[\"id\"].unique()\n",
    "left_sources = df[df[\"bias\"] < 0][\"id\"].unique()\n",
    "right_sources = df[df[\"bias\"] > 0][\"id\"].unique()\n",
    "left_headlines = df[df[\"id\"].isin(left_sources)]\n",
    "right_headlines = df[df[\"id\"].isin(right_sources)]\n",
    "avg_left_hl_length = left_headlines[\"title\"].str.len().mean()\n",
    "avg_right_hl_length = right_headlines[\"title\"].str.len().mean()\n",
    "\n",
    "print(f\"Number of unique sources: {len(source_ids)}\")\n",
    "print(f\"Number of left-skewing sources: {len(left_sources)}\")\n",
    "print(f\"Number of right_skewing sources: {len(right_sources)}\")\n",
    "print(f\"\\nNumber of headlines per source:\")\n",
    "id_group = df.groupby(\"id\")\n",
    "print(id_group[\"id\"].count())\n",
    "print(f\"Number of headlines from left-skewing sources: {len(left_headlines)}\")\n",
    "print(f\"Number of headlines from right-skewing sources: {len(right_headlines)}\")\n",
    "print(f\"\\nTotal number of headlines: {len(df)}\")\n"
   ]
  },
  {
   "cell_type": "code",
   "execution_count": 10,
   "id": "fd3ec598",
   "metadata": {},
   "outputs": [
    {
     "data": {
      "text/plain": [
       "Text(0.5, 1.0, 'Number of Sources by Bias')"
      ]
     },
     "execution_count": 10,
     "metadata": {},
     "output_type": "execute_result"
    },
    {
     "data": {
      "image/png": "[encoded data removed]",
      "text/plain": [
       "<Figure size 1200x400 with 2 Axes>"
      ]
     },
     "metadata": {},
     "output_type": "display_data"
    }
   ],
   "source": [
    "colors = [\"#2b6cb0\", \"#e53e3e\"]\n",
    "labels = [\"Left-skewing sources\", \"Right-skewing sources\"]\n",
    "explode = (0.01, 0.01)\n",
    "fig, (ax1, ax2) = plt.subplots(1, 2, figsize=(12,4))\n",
    "\n",
    "# Headlines by source bias pie chart\n",
    "ax1.pie(\n",
    "    [len(left_headlines), len(right_headlines)], \n",
    "    colors = colors,\n",
    "    autopct='%1.1f%%',\n",
    "    labels=labels,\n",
    "    explode=explode,\n",
    "    startangle=90,\n",
    "    textprops={\"fontsize\": 8, \"color\":\"black\"})\n",
    "ax1.set_title('Distribution of Headlines by Source Bias', fontsize=12, fontweight='bold', pad=20)\n",
    "# Number of sources by bias\n",
    "ax2.bar(labels, [len(left_sources), len(right_sources)], color=colors)\n",
    "ax2.set_title(\"Number of Sources by Bias\", fontsize=12, fontweight='bold', pad=20)"
   ]
  },
  {
   "cell_type": "code",
   "execution_count": null,
   "id": "f1bc611c",
   "metadata": {},
   "outputs": [
    {
     "data": {
      "text/plain": [
       "Text(0, 0.5, 'Number of Sources')"
      ]
     },
     "execution_count": 19,
     "metadata": {},
     "output_type": "execute_result"
    },
    {
     "data": {
      "image/png": "[encoded data removed]",
      "text/plain": [
       "<Figure size 640x480 with 1 Axes>"
      ]
     },
     "metadata": {},
     "output_type": "display_data"
    }
   ],
   "source": [
    "plt.hist(df[\"bias\"], bins=10)\n",
    "plt.xlabel(\"Bias Score\")\n",
    "plt.ylabel(\"Number of Sources\")"
   ]
  },
  {
   "cell_type": "markdown",
   "id": "6e87cd6c",
   "metadata": {},
   "source": [
    "Looking at the pie and bar charts above, the source distribution is clearly less than ideal, heavily favoring left-leaning sources. The histogram offers a bit more clarity, showing that most of the sources have a center-left bias, with a few others further left and a small cluster of outlets to the right. It should also be noted that Ad Fontes assigns heavily skewed sources bias scores in the twenties and even thirties (plus or minus, with the greatest absolute value bias as 31.67), so all sources used are fairly moderate in their leanings.\n",
    "\n",
    "Despite the skewed distribution, with 598 headlines drawn from right-leaning sources, there is a large enough sample size for a meaningful analysis, but this disparity will be important to keep in mind for any comparisons between the two sides."
   ]
  },
  {
   "cell_type": "markdown",
   "id": "7a7e86bb",
   "metadata": {},
   "source": [
    "## Sentiment Analysis\n",
    "\n",
    "Understanding the tone of a headline is the core of this study, as headlines are the primary vehicle through which readers form their first impression of a story. To analyze the emotional polarity of each headline, this project uses [VADER (Valence Aware Dictionary and sEntiment Reasoner)](https://www.nltk.org/_modules/nltk/sentiment/vader.html), a lexicon and rule-based sentiment analysis tool included with the NLTK library.\n",
    "\n",
    "Unlike machine-learning models that require large, labeled training datasets, VADER comes pre-tuned and is particularly effective for short, informal text such as social media posts and news headlines. It was developed to capture the intensity and context of language by accounting for factors such as capitalization (“GREAT” vs. “great”), punctuation (“!!!”), degree modifiers (“very good”), and negations (“not bad”).\n",
    "\n",
    "For each headline, VADER assigns four metrics:\n",
    "- pos - the proportion of words with positive valence\n",
    "- neu - the proportion of words with neutral valence\n",
    "- neg - the proportion of words with negative valence\n",
    "- compound - a normalized score between -1 (most negative) and +1 (most postiive)\n",
    "\n",
    "The compound score provides a concise overall measure of sentiment and will be the primary variable used in this analysis. Following established conventions,\n",
    "\n",
    "- values ≥ 0.05 are classified as positive,\n",
    "- values ≤ -0.05 as negative, and\n",
    "- values between -0.05 and 0.05 as neutral.\n",
    "\n",
    "VADER’s design makes it particularly appropriate for this dataset, as headlines are short, emotionally charged, and often crafted to evoke reactions. This allows us to explore whether the sentiment of headlines differs systematically across outlets with varying levels of bias and reliability."
   ]
  },
  {
   "cell_type": "code",
   "execution_count": 21,
   "id": "82f74365",
   "metadata": {},
   "outputs": [
    {
     "data": {
      "text/html": [
       "<div>\n",
       "<style scoped>\n",
       "    .dataframe tbody tr th:only-of-type {\n",
       "        vertical-align: middle;\n",
       "    }\n",
       "\n",
       "    .dataframe tbody tr th {\n",
       "        vertical-align: top;\n",
       "    }\n",
       "\n",
       "    .dataframe thead th {\n",
       "        text-align: right;\n",
       "    }\n",
       "</style>\n",
       "<table border=\"1\" class=\"dataframe\">\n",
       "  <thead>\n",
       "    <tr style=\"text-align: right;\">\n",
       "      <th></th>\n",
       "      <th>id</th>\n",
       "      <th>name_x</th>\n",
       "      <th>category</th>\n",
       "      <th>reliability</th>\n",
       "      <th>bias</th>\n",
       "      <th>author</th>\n",
       "      <th>title</th>\n",
       "    </tr>\n",
       "  </thead>\n",
       "  <tbody>\n",
       "    <tr>\n",
       "      <th>0</th>\n",
       "      <td>abc-news</td>\n",
       "      <td>abc news</td>\n",
       "      <td>general</td>\n",
       "      <td>44.6</td>\n",
       "      <td>-3.1</td>\n",
       "      <td>ROB GILLIES Associated Press</td>\n",
       "      <td>Canadian Prime Minister Mark Carney to meet Tr...</td>\n",
       "    </tr>\n",
       "    <tr>\n",
       "      <th>1</th>\n",
       "      <td>abc-news</td>\n",
       "      <td>abc news</td>\n",
       "      <td>general</td>\n",
       "      <td>44.6</td>\n",
       "      <td>-3.1</td>\n",
       "      <td>LINDSAY WHITEHURST Associated Press</td>\n",
       "      <td>Supreme Court to consider overturning Hawaii l...</td>\n",
       "    </tr>\n",
       "  </tbody>\n",
       "</table>\n",
       "</div>"
      ],
      "text/plain": [
       "         id    name_x category  reliability  bias  \\\n",
       "0  abc-news  abc news  general         44.6  -3.1   \n",
       "1  abc-news  abc news  general         44.6  -3.1   \n",
       "\n",
       "                                author  \\\n",
       "0         ROB GILLIES Associated Press   \n",
       "1  LINDSAY WHITEHURST Associated Press   \n",
       "\n",
       "                                               title  \n",
       "0  Canadian Prime Minister Mark Carney to meet Tr...  \n",
       "1  Supreme Court to consider overturning Hawaii l...  "
      ]
     },
     "execution_count": 21,
     "metadata": {},
     "output_type": "execute_result"
    }
   ],
   "source": [
    "# a reminder of what the dataframe looks like. Analysis will be ran on the 'title' column\n",
    "df.head(2)"
   ]
  },
  {
   "cell_type": "code",
   "execution_count": null,
   "id": "67222df3",
   "metadata": {},
   "outputs": [],
   "source": [
    "# initialize analyzer and apply to each headline, adding a new column to the dataframe\n",
    "analyzer = SentimentIntensityAnalyzer()\n",
    "df[\"sentiment_score\"] = df[\"title\"].apply(lambda x: analyzer.polarity_scores(x)[\"compound\"])"
   ]
  },
  {
   "cell_type": "code",
   "execution_count": null,
   "id": "5ef6f035",
   "metadata": {},
   "outputs": [
    {
     "data": {
      "text/html": [
       "<div>\n",
       "<style scoped>\n",
       "    .dataframe tbody tr th:only-of-type {\n",
       "        vertical-align: middle;\n",
       "    }\n",
       "\n",
       "    .dataframe tbody tr th {\n",
       "        vertical-align: top;\n",
       "    }\n",
       "\n",
       "    .dataframe thead th {\n",
       "        text-align: right;\n",
       "    }\n",
       "</style>\n",
       "<table border=\"1\" class=\"dataframe\">\n",
       "  <thead>\n",
       "    <tr style=\"text-align: right;\">\n",
       "      <th></th>\n",
       "      <th>id</th>\n",
       "      <th>name_x</th>\n",
       "      <th>category</th>\n",
       "      <th>reliability</th>\n",
       "      <th>bias</th>\n",
       "      <th>author</th>\n",
       "      <th>title</th>\n",
       "      <th>sentiment_score</th>\n",
       "    </tr>\n",
       "  </thead>\n",
       "  <tbody>\n",
       "    <tr>\n",
       "      <th>0</th>\n",
       "      <td>abc-news</td>\n",
       "      <td>abc news</td>\n",
       "      <td>general</td>\n",
       "      <td>44.6</td>\n",
       "      <td>-3.1</td>\n",
       "      <td>ROB GILLIES Associated Press</td>\n",
       "      <td>Canadian Prime Minister Mark Carney to meet Tr...</td>\n",
       "      <td>0.0000</td>\n",
       "    </tr>\n",
       "    <tr>\n",
       "      <th>1</th>\n",
       "      <td>abc-news</td>\n",
       "      <td>abc news</td>\n",
       "      <td>general</td>\n",
       "      <td>44.6</td>\n",
       "      <td>-3.1</td>\n",
       "      <td>LINDSAY WHITEHURST Associated Press</td>\n",
       "      <td>Supreme Court to consider overturning Hawaii l...</td>\n",
       "      <td>0.5574</td>\n",
       "    </tr>\n",
       "    <tr>\n",
       "      <th>2</th>\n",
       "      <td>abc-news</td>\n",
       "      <td>abc news</td>\n",
       "      <td>general</td>\n",
       "      <td>44.6</td>\n",
       "      <td>-3.1</td>\n",
       "      <td>The Associated Press</td>\n",
       "      <td>Early snowfall damages power lines and snarls ...</td>\n",
       "      <td>-0.4404</td>\n",
       "    </tr>\n",
       "    <tr>\n",
       "      <th>3</th>\n",
       "      <td>abc-news</td>\n",
       "      <td>abc news</td>\n",
       "      <td>general</td>\n",
       "      <td>44.6</td>\n",
       "      <td>-3.1</td>\n",
       "      <td>Aaron Katersky, Peter Charalambous</td>\n",
       "      <td>Sean 'Diddy' Combs sentencing live updates: Pr...</td>\n",
       "      <td>-0.5994</td>\n",
       "    </tr>\n",
       "    <tr>\n",
       "      <th>4</th>\n",
       "      <td>abc-news</td>\n",
       "      <td>abc news</td>\n",
       "      <td>general</td>\n",
       "      <td>44.6</td>\n",
       "      <td>-3.1</td>\n",
       "      <td>MICHAEL LIEDTKE AP technology writer</td>\n",
       "      <td>Silicon Valley leader who navigated the intern...</td>\n",
       "      <td>0.0000</td>\n",
       "    </tr>\n",
       "  </tbody>\n",
       "</table>\n",
       "</div>"
      ],
      "text/plain": [
       "         id    name_x category  reliability  bias  \\\n",
       "0  abc-news  abc news  general         44.6  -3.1   \n",
       "1  abc-news  abc news  general         44.6  -3.1   \n",
       "2  abc-news  abc news  general         44.6  -3.1   \n",
       "3  abc-news  abc news  general         44.6  -3.1   \n",
       "4  abc-news  abc news  general         44.6  -3.1   \n",
       "\n",
       "                                 author  \\\n",
       "0          ROB GILLIES Associated Press   \n",
       "1   LINDSAY WHITEHURST Associated Press   \n",
       "2                  The Associated Press   \n",
       "3    Aaron Katersky, Peter Charalambous   \n",
       "4  MICHAEL LIEDTKE AP technology writer   \n",
       "\n",
       "                                               title  sentiment_score  \n",
       "0  Canadian Prime Minister Mark Carney to meet Tr...           0.0000  \n",
       "1  Supreme Court to consider overturning Hawaii l...           0.5574  \n",
       "2  Early snowfall damages power lines and snarls ...          -0.4404  \n",
       "3  Sean 'Diddy' Combs sentencing live updates: Pr...          -0.5994  \n",
       "4  Silicon Valley leader who navigated the intern...           0.0000  "
      ]
     },
     "execution_count": 29,
     "metadata": {},
     "output_type": "execute_result"
    }
   ],
   "source": [
    "# the dataframe with the new sentiment_score column added\n",
    "df.head()"
   ]
  },
  {
   "cell_type": "markdown",
   "id": "13b66d9e",
   "metadata": {},
   "source": [
    "## Initial Sentiment statistics\n",
    "The sentiment scores"
   ]
  },
  {
   "cell_type": "code",
   "execution_count": 31,
   "id": "37b2c071",
   "metadata": {},
   "outputs": [
    {
     "data": {
      "text/plain": [
       "count    2359.000000\n",
       "mean       -0.061251\n",
       "std         0.408131\n",
       "min        -0.936000\n",
       "25%        -0.361200\n",
       "50%         0.000000\n",
       "75%         0.153100\n",
       "max         0.942300\n",
       "Name: sentiment_score, dtype: float64"
      ]
     },
     "execution_count": 31,
     "metadata": {},
     "output_type": "execute_result"
    }
   ],
   "source": [
    "# summary statistics for the sentiment scores\n",
    "df[\"sentiment_score\"].describe()"
   ]
  },
  {
   "cell_type": "code",
   "execution_count": 32,
   "id": "ec6c2dec",
   "metadata": {},
   "outputs": [
    {
     "data": {
      "text/plain": [
       "(array([128., 189., 260., 246., 859., 117., 145., 230., 139.,  46.]),\n",
       " array([-0.936  , -0.74817, -0.56034, -0.37251, -0.18468,  0.00315,\n",
       "         0.19098,  0.37881,  0.56664,  0.75447,  0.9423 ]),\n",
       " <BarContainer object of 10 artists>)"
      ]
     },
     "execution_count": 32,
     "metadata": {},
     "output_type": "execute_result"
    },
    {
     "data": {
      "image/png": "[encoded data removed]",
      "text/plain": [
       "<Figure size 640x480 with 1 Axes>"
      ]
     },
     "metadata": {},
     "output_type": "display_data"
    }
   ],
   "source": [
    "plt.hist(df[\"sentiment_score\"])"
   ]
  },
  {
   "cell_type": "code",
   "execution_count": null,
   "id": "d4dd486e",
   "metadata": {},
   "outputs": [],
   "source": []
  }
 ],
 "metadata": {
  "kernelspec": {
   "display_name": "venv",
   "language": "python",
   "name": "python3"
  },
  "language_info": {
   "codemirror_mode": {
    "name": "ipython",
    "version": 3
   },
   "file_extension": ".py",
   "mimetype": "text/x-python",
   "name": "python",
   "nbconvert_exporter": "python",
   "pygments_lexer": "ipython3",
   "version": "3.12.7"
  }
 },
 "nbformat": 4,
 "nbformat_minor": 5
}
